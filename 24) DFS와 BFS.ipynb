{
 "cells": [
  {
   "cell_type": "markdown",
   "metadata": {},
   "source": [
    "## 1260 DFS와 BFS"
   ]
  },
  {
   "cell_type": "code",
   "execution_count": 37,
   "metadata": {},
   "outputs": [
    {
     "name": "stdout",
     "output_type": "stream",
     "text": [
      "4 5 1\n",
      "1 2\n",
      "1 3\n",
      "1 4\n",
      "2 4\n",
      "3 4\n",
      "1 2 4 3 \n",
      "1 2 3 4 "
     ]
    }
   ],
   "source": [
    "n,m,v=map(int,input().split())\n",
    "matrix=[[0]*(n+1) for i in range(n+1)]\n",
    "for i in range(m):\n",
    "    x,y=map(int,input().split())\n",
    "    matrix[x][y]=matrix[y][x]=1\n",
    "visited=[0]*(n+1)\n",
    "\n",
    "def DFS(v):\n",
    "    visited[v]=1\n",
    "    print(v,end=' ')\n",
    "    for i in range(1,n+1):\n",
    "        if (visited[i]==0 and matrix[v][i]==1):\n",
    "            DFS(i)\n",
    "            \n",
    "def BFS(v):\n",
    "    que=[v]\n",
    "    visited[v]=0\n",
    "    while(que):\n",
    "        v=que.pop(0)\n",
    "        print(v,end=' ')\n",
    "        for i in range(1,n+1):\n",
    "            if (visited[i]==1 and matrix[v][i]==1):\n",
    "                que.append(i)\n",
    "                visited[i]=0\n",
    "                \n",
    "DFS(v)\n",
    "print()\n",
    "BFS(v)"
   ]
  },
  {
   "cell_type": "markdown",
   "metadata": {},
   "source": [
    "## 2606 바이러스"
   ]
  },
  {
   "cell_type": "code",
   "execution_count": 12,
   "metadata": {},
   "outputs": [
    {
     "name": "stdout",
     "output_type": "stream",
     "text": [
      "7\n",
      "6\n",
      "1 2\n",
      "2 3\n",
      "1 5\n",
      "5 2\n",
      "5 6\n",
      "4 7\n",
      "4\n"
     ]
    }
   ],
   "source": [
    "n=int(input())\n",
    "m=int(input())\n",
    "dic={}\n",
    "for i in range(n):\n",
    "    dic[i+1]=set()\n",
    "for i in range(m):\n",
    "    a,b=map(int,input().split())\n",
    "    dic[a].add(b)\n",
    "    dic[b].add(a)\n",
    "visited=[]\n",
    "def dfs(start,dic):\n",
    "    for i in dic[start]:\n",
    "        if i not in visited:\n",
    "            visited.append(i)\n",
    "            dfs(i,dic)\n",
    "dfs(1,dic)\n",
    "print(len(visited)-1)"
   ]
  },
  {
   "cell_type": "code",
   "execution_count": 17,
   "metadata": {},
   "outputs": [
    {
     "name": "stdout",
     "output_type": "stream",
     "text": [
      "7\n",
      "6\n",
      "1 2\n",
      "2 3\n",
      "1 5\n",
      "5 2\n",
      "5 6\n",
      "4 7\n",
      "4\n"
     ]
    }
   ],
   "source": [
    "n=int(input())\n",
    "m=int(input())\n",
    "dic={}\n",
    "for i in range(n):\n",
    "    dic[i+1]=set()\n",
    "for i in range(m):\n",
    "    a,b=map(int,input().split())\n",
    "    dic[a].add(b)\n",
    "    dic[b].add(a)\n",
    "visited=[]\n",
    "def bfs(start,dic):\n",
    "    que=[start]\n",
    "    while que:\n",
    "        for i in dic[que.pop()]:\n",
    "            if i not in visited:\n",
    "                visited.append(i)\n",
    "                que.append(i)\n",
    "bfs(1,dic)\n",
    "print(len(visited)-1)"
   ]
  },
  {
   "cell_type": "markdown",
   "metadata": {},
   "source": [
    "## 2667 단지번호붙이기"
   ]
  },
  {
   "cell_type": "code",
   "execution_count": 3,
   "metadata": {},
   "outputs": [
    {
     "name": "stdout",
     "output_type": "stream",
     "text": [
      "7\n",
      "0110100\n",
      "0110101\n",
      "1110101\n",
      "0000111\n",
      "0100000\n",
      "0111110\n",
      "0111000\n",
      "3\n",
      "7\n",
      "8\n",
      "9\n"
     ]
    }
   ],
   "source": [
    "n=int(input())\n",
    "matrix=[[0]*n for i in range(n)]\n",
    "visited=[[0]*n for i in range(n)]\n",
    "for i in range(n):\n",
    "    apart=input()\n",
    "    for j,mark in enumerate(apart):\n",
    "        matrix[i][j]=int(mark)\n",
    "\n",
    "# 방향 확인용\n",
    "dx=[-1,1,0,0]\n",
    "dy=[0,0,-1,1]\n",
    "\n",
    "number=1\n",
    "cnt=0\n",
    "def DFS(x,y, number):\n",
    "    visited[x][y]=1\n",
    "    global cnt\n",
    "    if matrix[x][y]==1:\n",
    "        cnt+=1\n",
    "    for i in range(4):\n",
    "        nx=x+dx[i]\n",
    "        ny=y+dy[i]\n",
    "        if (0<=nx<n) and (0<=ny<n):\n",
    "            if (visited[nx][ny]==0) and (matrix[nx][ny]==1):\n",
    "                DFS(nx,ny,number)\n",
    "                \n",
    "lst=[]\n",
    "for i in range(n):\n",
    "    for j in range(n):\n",
    "        if (matrix[i][j]==1) and (visited[i][j]==0):\n",
    "            DFS(i,j,number)\n",
    "            lst.append(cnt)\n",
    "            cnt=0\n",
    "print(len(lst))\n",
    "for i in sorted(lst):\n",
    "    print(i)"
   ]
  },
  {
   "cell_type": "markdown",
   "metadata": {},
   "source": [
    "## 1012 유기농 배추"
   ]
  },
  {
   "cell_type": "code",
   "execution_count": 13,
   "metadata": {},
   "outputs": [
    {
     "name": "stdout",
     "output_type": "stream",
     "text": [
      "2\n",
      "10 8 17\n",
      "0 0\n",
      "1 0\n",
      "1 1\n",
      "4 2\n",
      "4 3\n",
      "4 5\n",
      "2 4\n",
      "3 4\n",
      "7 4\n",
      "8 4\n",
      "9 4\n",
      "7 5\n",
      "8 5\n",
      "9 5\n",
      "7 6\n",
      "8 6\n",
      "9 6\n",
      "5\n",
      "10 10 1\n",
      "5 5\n",
      "1\n"
     ]
    }
   ],
   "source": [
    "import sys \n",
    "sys.setrecursionlimit(10000)\n",
    "\n",
    "def dfs(x,y):\n",
    "    dx=[-1,1,0,0]\n",
    "    dy=[0,0,-1,1]\n",
    "    for i in range(4):\n",
    "        nx=x+dx[i]\n",
    "        ny=y+dy[i]\n",
    "        if (0<=nx<n) and (0<=ny<m):\n",
    "            if matrix[nx][ny]==1:\n",
    "                matrix[nx][ny]=0\n",
    "                dfs(nx,ny)\n",
    "                \n",
    "t=int(input())                \n",
    "for i in range(t):\n",
    "    m,n,k=map(int,input().split())\n",
    "    matrix=[[0]*m for _ in range(n)]\n",
    "    cnt=0\n",
    "    for j in range(k):\n",
    "        b,a=map(int,input().split())\n",
    "        matrix[a][b]=1\n",
    "    for x in range(n):\n",
    "        for y in range(m):\n",
    "            if matrix[x][y]==1:\n",
    "                dfs(x,y)\n",
    "                cnt+=1\n",
    "    print(cnt)"
   ]
  },
  {
   "cell_type": "markdown",
   "metadata": {},
   "source": [
    "## 2178 미로 탐색"
   ]
  },
  {
   "cell_type": "code",
   "execution_count": 6,
   "metadata": {},
   "outputs": [
    {
     "name": "stdout",
     "output_type": "stream",
     "text": [
      "4 6\n",
      "101111\n",
      "101010\n",
      "101011\n",
      "111011\n",
      "15\n"
     ]
    }
   ],
   "source": [
    "n,m=map(int,input().split())\n",
    "matrix=[[0]*m for i in range(n)]\n",
    "for i in range(n):\n",
    "    x=input()\n",
    "    for j,mark in enumerate(x):\n",
    "        matrix[i][j]=int(mark)\n",
    "        \n",
    "dx=[-1,1,0,0]\n",
    "dy=[0,0,-1,1]\n",
    "que=[[0,0]]\n",
    "while que:\n",
    "    x,y=que.pop(0)\n",
    "    for i in range(4):\n",
    "        nx=x+dx[i]\n",
    "        ny=y+dy[i]\n",
    "        if (0<=nx<n) and (0<=ny<m) and (matrix[nx][ny]==1):\n",
    "            matrix[nx][ny]=matrix[x][y]+1\n",
    "            que.append([nx,ny])\n",
    "            \n",
    "print(matrix[n-1][m-1])"
   ]
  },
  {
   "cell_type": "markdown",
   "metadata": {},
   "source": [
    "## 7576 토마토"
   ]
  },
  {
   "cell_type": "code",
   "execution_count": 1,
   "metadata": {},
   "outputs": [
    {
     "name": "stdout",
     "output_type": "stream",
     "text": [
      "6 4\n",
      "0 0 0 0 0 0\n",
      "0 0 0 0 0 0\n",
      "0 0 0 0 0 0\n",
      "0 0 0 0 0 1\n",
      "8\n"
     ]
    }
   ],
   "source": [
    "from collections import deque\n",
    "\n",
    "m,n=map(int,input().split())\n",
    "matrix=[[0]*m for i in range(n)]\n",
    "for i in range(n):\n",
    "    matrix[i]=list(map(int,input().split()))\n",
    "    \n",
    "que=deque()\n",
    "dx=[-1,1,0,0]\n",
    "dy=[0,0,-1,1]\n",
    "for i in range(n):\n",
    "    for j in range(m):\n",
    "        if matrix[i][j]==1:\n",
    "            que.append([i,j])\n",
    "while que:\n",
    "    x,y=que.popleft()\n",
    "    for i in range(4):\n",
    "        nx=x+dx[i]\n",
    "        ny=y+dy[i]\n",
    "        if 0<=nx<n and 0<=ny<m and matrix[nx][ny]==0:\n",
    "            matrix[nx][ny]=matrix[x][y]+1\n",
    "            que.append([nx,ny])\n",
    "            \n",
    "result=0\n",
    "flag=0\n",
    "for i in matrix:\n",
    "    for j in i:\n",
    "        if j==0:\n",
    "            flag=-1\n",
    "            break\n",
    "        else:\n",
    "            result=max(result,j)\n",
    "if flag==-1:\n",
    "    print(-1)\n",
    "else:\n",
    "    print(result-1)"
   ]
  },
  {
   "cell_type": "markdown",
   "metadata": {},
   "source": [
    "## 7569 토마토"
   ]
  },
  {
   "cell_type": "code",
   "execution_count": 44,
   "metadata": {},
   "outputs": [
    {
     "name": "stdout",
     "output_type": "stream",
     "text": [
      "5 3 1\n",
      "0 -1 0 0 0\n",
      "-1 -1 0 1 1\n",
      "0 0 0 1 1\n",
      "-1\n"
     ]
    }
   ],
   "source": [
    "from collections import deque\n",
    "#import sys\n",
    "#input=sys.stdin.readline\n",
    "\n",
    "m,n,h=map(int,input().split())\n",
    "matrix=[[[0]*m for i in range(n)] for i in range(h)]\n",
    "for i in range(h):\n",
    "    for j in range(n):\n",
    "        matrix[i][j]=list(map(int,input().split()))\n",
    "        \n",
    "que=deque()\n",
    "dx=[-1,1,0,0,0,0]\n",
    "dy=[0,0,-1,1,0,0]\n",
    "dz=[0,0,0,0,-1,1]\n",
    "\n",
    "for z in range(h):\n",
    "    for y in range(m):\n",
    "        for x in range(n):\n",
    "            if matrix[z][x][y]==1:\n",
    "                que.append([x,y,z])\n",
    "\n",
    "while que:\n",
    "    x,y,z=que.popleft()\n",
    "    for i in range(6):\n",
    "        nx=x+dx[i]\n",
    "        ny=y+dy[i]\n",
    "        nz=z+dz[i]\n",
    "        if 0<=nx<n and 0<=ny<m and 0<=nz<h and matrix[nz][nx][ny]==0:\n",
    "            que.append([nx,ny,nz])\n",
    "            matrix[nz][nx][ny]=matrix[z][x][y]+1\n",
    "\n",
    "result=0\n",
    "flag=0\n",
    "for i in matrix:\n",
    "    for j in i:\n",
    "        for k in j:\n",
    "            if k==0:\n",
    "                flag=-1\n",
    "                break\n",
    "            result=max(result,k)\n",
    "if flag==-1:\n",
    "    print(-1)\n",
    "else:\n",
    "    print(result-1)"
   ]
  },
  {
   "cell_type": "markdown",
   "metadata": {},
   "source": [
    "## 1697 숨바꼭질"
   ]
  },
  {
   "cell_type": "code",
   "execution_count": 61,
   "metadata": {},
   "outputs": [
    {
     "name": "stdout",
     "output_type": "stream",
     "text": [
      "5 17\n",
      "4\n"
     ]
    }
   ],
   "source": [
    "from collections import deque\n",
    "que=deque()\n",
    "n,k=map(int,input().split())\n",
    "que.append(n)\n",
    "MAX=100001\n",
    "visited=[0]*MAX\n",
    "while que:\n",
    "    x=que.popleft()\n",
    "    if x==k:\n",
    "        print(visited[x])\n",
    "        break\n",
    "    for nx in (x-1,x+1,2*x):\n",
    "        if 0<=nx<MAX and visited[nx]==0:\n",
    "            visited[nx]=visited[x]+1\n",
    "            que.append(nx)"
   ]
  },
  {
   "cell_type": "markdown",
   "metadata": {},
   "source": [
    "## 2206 벽 부수고 이동하기"
   ]
  },
  {
   "cell_type": "code",
   "execution_count": 135,
   "metadata": {},
   "outputs": [
    {
     "name": "stdout",
     "output_type": "stream",
     "text": [
      "6 4\n",
      "0100\n",
      "1110\n",
      "1000\n",
      "0000\n",
      "0111\n",
      "0000\n",
      "15\n"
     ]
    }
   ],
   "source": [
    "from collections import deque\n",
    "n,m=map(int,input().split())\n",
    "matrix=[]\n",
    "for i in range(n):\n",
    "    matrix.append(list(map(int,input())))\n",
    "    \n",
    "dx=[-1,1,0,0]\n",
    "dy=[0,0,-1,1]\n",
    "que=deque()\n",
    "que.append([0,0,1])\n",
    "visited=[[[0]*2 for i in range(m)]for i in range(n)]\n",
    "visited[0][0][1]=1\n",
    "\n",
    "result=-1\n",
    "while que:\n",
    "    x,y,z=que.popleft()\n",
    "    if x==n-1 and y==m-1:\n",
    "        result=visited[x][y][z]\n",
    "        break\n",
    "    for i in range(4):\n",
    "        nx=x+dx[i]\n",
    "        ny=y+dy[i]\n",
    "        if 0<=nx<n and 0<=ny<m:\n",
    "            if matrix[nx][ny]==1 and z==1:\n",
    "                visited[nx][ny][0]=visited[x][y][1]+1\n",
    "                que.append([nx,ny,0])\n",
    "            elif matrix[nx][ny]==0 and visited[nx][ny][z]==0:\n",
    "                visited[n2333x][ny][z]=visited[x][y][z]+1\n",
    "                que.append([nx,ny,z])\n",
    "                \n",
    "print(result)"
   ]
  },
  {
   "cell_type": "markdown",
   "metadata": {},
   "source": [
    "## 7562 나이트의 이동"
   ]
  },
  {
   "cell_type": "code",
   "execution_count": 149,
   "metadata": {},
   "outputs": [
    {
     "name": "stdout",
     "output_type": "stream",
     "text": [
      "1\n",
      "8\n",
      "0 0\n",
      "7 0\n",
      "5\n"
     ]
    }
   ],
   "source": [
    "from collections import deque\n",
    "t=int(input())\n",
    "dx=[-2,-2,2,2,1,1,-1,-1]\n",
    "dy=[1,-1,1,-1,2,-2,2,-2]\n",
    "\n",
    "def bfs(sx,sy,ex,ey):\n",
    "    que=deque()\n",
    "    que.append([sx,sy])\n",
    "    matrix[sx][sy]=1\n",
    "    while que:\n",
    "        x,y=que.popleft()\n",
    "        if x==ex and y==ey:\n",
    "            print(matrix[ex][ey]-1)\n",
    "            return\n",
    "        for i in range(8):\n",
    "            nx=x+dx[i]\n",
    "            ny=y+dy[i]\n",
    "            if 0<=nx<l and 0<=ny<l and matrix[nx][ny]==0:\n",
    "                que.append([nx,ny])\n",
    "                matrix[nx][ny]=matrix[x][y]+1\n",
    "                \n",
    "for i in range(t):\n",
    "    l=int(input())\n",
    "    sx,sy=map(int,input().split())\n",
    "    ex,ey=map(int,input().split())\n",
    "    matrix=[[0]*l for i in range(l)]\n",
    "    bfs(sx,sy,ex,ey)"
   ]
  },
  {
   "cell_type": "markdown",
   "metadata": {},
   "source": [
    "## 1707 이분 그래프"
   ]
  },
  {
   "cell_type": "code",
   "execution_count": 152,
   "metadata": {},
   "outputs": [
    {
     "name": "stdout",
     "output_type": "stream",
     "text": [
      "2\n",
      "3 2\n",
      "1 3\n",
      "2 3\n",
      "YES\n",
      "4 4\n",
      "1 2\n",
      "2 3\n",
      "3 4\n",
      "4 2\n",
      "NO\n"
     ]
    }
   ],
   "source": [
    "from collections import deque\n",
    "#import sys\n",
    "#input=sys.stdin.readline\n",
    "k=int(input())\n",
    "for i in range(k):\n",
    "    v,e=map(int,input().split())\n",
    "    graph=[[]for i in range(v+1)]\n",
    "    visited=[0]*(v+1)    \n",
    "    for j in range(e):\n",
    "        a,b=map(int,input().split())\n",
    "        graph[a].append(b)\n",
    "        graph[b].append(a)\n",
    "        \n",
    "    que=deque()\n",
    "    flag=True\n",
    "    for j in range(1,v+1):\n",
    "        if visited[j]==0:\n",
    "            que.append(j)\n",
    "            visited[j]=1\n",
    "            while que:\n",
    "                x=que.popleft()\n",
    "                for point in graph[x]:\n",
    "                    if visited[point]==0:\n",
    "                        que.append(point)\n",
    "                        visited[point]=visited[x]+1\n",
    "                    elif visited[point]==visited[x]:\n",
    "                        flag=False\n",
    "    if flag==True:\n",
    "        print(\"YES\")\n",
    "    else:\n",
    "        print('NO')"
   ]
  }
 ],
 "metadata": {
  "kernelspec": {
   "display_name": "PyTorch",
   "language": "python",
   "name": "pytorch"
  },
  "language_info": {
   "codemirror_mode": {
    "name": "ipython",
    "version": 3
   },
   "file_extension": ".py",
   "mimetype": "text/x-python",
   "name": "python",
   "nbconvert_exporter": "python",
   "pygments_lexer": "ipython3",
   "version": "3.8.5"
  },
  "toc": {
   "base_numbering": 1,
   "nav_menu": {},
   "number_sections": true,
   "sideBar": true,
   "skip_h1_title": false,
   "title_cell": "Table of Contents",
   "title_sidebar": "Contents",
   "toc_cell": false,
   "toc_position": {},
   "toc_section_display": true,
   "toc_window_display": false
  }
 },
 "nbformat": 4,
 "nbformat_minor": 4
}
