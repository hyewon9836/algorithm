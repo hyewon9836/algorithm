{
 "cells": [
  {
   "cell_type": "markdown",
   "metadata": {},
   "source": [
    "## 11047 동전 0"
   ]
  },
  {
   "cell_type": "code",
   "execution_count": 38,
   "metadata": {},
   "outputs": [
    {
     "name": "stdout",
     "output_type": "stream",
     "text": [
      "10 4200\n",
      "1\n",
      "5\n",
      "10\n",
      "50\n",
      "100\n",
      "500\n",
      "1000\n",
      "5000\n",
      "10000\n",
      "50000\n",
      "6\n"
     ]
    }
   ],
   "source": [
    "n,money=map(int,input().split())\n",
    "money_lst=[]\n",
    "cnt=0\n",
    "for i in range(n):\n",
    "    money_lst.append(int(input()))\n",
    "for i in range(n-1,-1,-1):\n",
    "    if money>=money_lst[i]:\n",
    "        cnt+=money//money_lst[i]\n",
    "        money%=money_lst[i]\n",
    "    if money==0:\n",
    "        break\n",
    "print(cnt)"
   ]
  },
  {
   "cell_type": "markdown",
   "metadata": {},
   "source": [
    "## 1931 회의실 배정"
   ]
  },
  {
   "cell_type": "code",
   "execution_count": 5,
   "metadata": {},
   "outputs": [
    {
     "name": "stdout",
     "output_type": "stream",
     "text": [
      "11\n",
      "1 4\n",
      "3 5\n",
      "0 6\n",
      "5 7\n",
      "3 8\n",
      "5 9\n",
      "6 10\n",
      "8 11\n",
      "8 12\n",
      "2 13\n",
      "12 14\n",
      "4\n"
     ]
    }
   ],
   "source": [
    "n=int(input())\n",
    "arr=[]\n",
    "\n",
    "for i in range(n):\n",
    "    arr.append(list(map(int,input().split())))\n",
    "arr.sort(key=lambda x:(x[1],x[0]))\n",
    "\n",
    "last=arr[0][1]\n",
    "cnt=1\n",
    "\n",
    "for i in range(1,n):\n",
    "    if(arr[i][0]>=last):\n",
    "        cnt+=1\n",
    "        last=arr[i][1]\n",
    "        \n",
    "print(cnt)"
   ]
  },
  {
   "cell_type": "markdown",
   "metadata": {},
   "source": [
    "## 11399 ATM"
   ]
  },
  {
   "cell_type": "code",
   "execution_count": 20,
   "metadata": {},
   "outputs": [
    {
     "name": "stdout",
     "output_type": "stream",
     "text": [
      "5\n",
      "3 1 4 3 2\n",
      "32\n"
     ]
    }
   ],
   "source": [
    "n=int(input())\n",
    "time=list(map(int,input().split()))\n",
    "time=sorted(time)\n",
    "p=0; sum_time=0\n",
    "for i in time:\n",
    "    p+=i\n",
    "    sum_time+=p\n",
    "print(sum_time)"
   ]
  },
  {
   "cell_type": "markdown",
   "metadata": {},
   "source": [
    "## 1541 잃어버린 괄호"
   ]
  },
  {
   "cell_type": "code",
   "execution_count": 56,
   "metadata": {},
   "outputs": [
    {
     "name": "stdout",
     "output_type": "stream",
     "text": [
      "55-50+40\n",
      "-35\n"
     ]
    }
   ],
   "source": [
    "sen=input().split('-')\n",
    "lst=[]\n",
    "for i in sen:\n",
    "    plus=i.split('+')\n",
    "    plus_sum=0\n",
    "    for j in plus:\n",
    "        plus_sum+=int(j)\n",
    "    lst.append(plus_sum)\n",
    "n=lst[0]\n",
    "for i in range(1,len(lst)):\n",
    "    n-=lst[i]\n",
    "print(n)"
   ]
  },
  {
   "cell_type": "markdown",
   "metadata": {},
   "source": [
    "## 13305 주유소"
   ]
  },
  {
   "cell_type": "code",
   "execution_count": 97,
   "metadata": {},
   "outputs": [
    {
     "name": "stdout",
     "output_type": "stream",
     "text": [
      "4\n",
      "2 3 1\n",
      "5 2 4 1\n",
      "18\n"
     ]
    }
   ],
   "source": [
    "n=int(input())\n",
    "dis=list(map(int,input().split()))\n",
    "oil=list(map(int,input().split()))\n",
    "\n",
    "final=0\n",
    "min_cost=oil[0]\n",
    "\n",
    "for i in range(n-1):\n",
    "    if oil[i]<min_cost:\n",
    "        min_cost=oil[i]\n",
    "    final+=min_cost*dis[i]\n",
    "print(final)"
   ]
  }
 ],
 "metadata": {
  "kernelspec": {
   "display_name": "Python 3",
   "language": "python",
   "name": "python3"
  },
  "language_info": {
   "codemirror_mode": {
    "name": "ipython",
    "version": 3
   },
   "file_extension": ".py",
   "mimetype": "text/x-python",
   "name": "python",
   "nbconvert_exporter": "python",
   "pygments_lexer": "ipython3",
   "version": "3.8.3"
  }
 },
 "nbformat": 4,
 "nbformat_minor": 4
}
