{
 "cells": [
  {
   "cell_type": "markdown",
   "metadata": {},
   "source": [
    "## 1920 수 찾기"
   ]
  },
  {
   "cell_type": "code",
   "execution_count": 1,
   "metadata": {},
   "outputs": [
    {
     "name": "stdout",
     "output_type": "stream",
     "text": [
      "5\n",
      "4 1 5 2 3\n",
      "5\n",
      "1 3 7 9 5\n",
      "1\n",
      "1\n",
      "0\n",
      "0\n",
      "1\n"
     ]
    }
   ],
   "source": [
    "n=int(input())\n",
    "lst=list(map(int,input().split()))\n",
    "m=int(input())\n",
    "num=list(map(int,input().split()))\n",
    "lst.sort()\n",
    "def search(lst,number):\n",
    "    left=0\n",
    "    right=n-1\n",
    "    while(left<=right):\n",
    "        pivot=(left+right)//2\n",
    "        if number==lst[pivot]:\n",
    "            return 1\n",
    "        elif number>=lst[pivot]:\n",
    "            left=pivot+1\n",
    "        else:\n",
    "            right=pivot-1\n",
    "    return 0\n",
    "for number in num:\n",
    "    print(search(lst,number))"
   ]
  },
  {
   "cell_type": "markdown",
   "metadata": {},
   "source": [
    "## 10816 숫자 카드 2"
   ]
  },
  {
   "cell_type": "code",
   "execution_count": 21,
   "metadata": {},
   "outputs": [
    {
     "name": "stdout",
     "output_type": "stream",
     "text": [
      "10\n",
      "6 3 2 10 10 10 -10 -10 7 3\n",
      "8\n",
      "10 9 -5 2 3 4 5 -10\n",
      "3 0 0 1 2 0 0 2 "
     ]
    }
   ],
   "source": [
    "n=int(input())\n",
    "ncard=list(map(int,input().split()))\n",
    "m=int(input())\n",
    "mcard=list(map(int,input().split()))\n",
    "\n",
    "ncard.sort()\n",
    "dic=dict()\n",
    "for i in ncard:\n",
    "    if i in dic:\n",
    "        dic[i]+=1\n",
    "    else:\n",
    "        dic[i]=1\n",
    "for num in mcard:\n",
    "    if num in dic:\n",
    "        print(dic[num],end=' ')\n",
    "    else:\n",
    "        print(0, end=' ')"
   ]
  },
  {
   "cell_type": "markdown",
   "metadata": {},
   "source": [
    "## 1654 랜선 자르기"
   ]
  },
  {
   "cell_type": "code",
   "execution_count": 33,
   "metadata": {},
   "outputs": [
    {
     "name": "stdout",
     "output_type": "stream",
     "text": [
      "4 11\n",
      "802\n",
      "743\n",
      "457\n",
      "539\n",
      "200\n"
     ]
    }
   ],
   "source": [
    "k,n=map(int,input().split())\n",
    "length=[]\n",
    "for i in range(k):\n",
    "    length.append(int(input()))\n",
    "start=1; end=max(length)\n",
    "while(start<=end):\n",
    "    pivot=(start+end)//2\n",
    "    cnt=0\n",
    "    for i in length:\n",
    "        cnt+=i//pivot\n",
    "    if cnt<n:\n",
    "        end=pivot-1\n",
    "    else:\n",
    "        start=pivot+1\n",
    "print(end)"
   ]
  },
  {
   "cell_type": "markdown",
   "metadata": {},
   "source": [
    "## 2805 나무 자르기"
   ]
  },
  {
   "cell_type": "code",
   "execution_count": 54,
   "metadata": {},
   "outputs": [
    {
     "name": "stdout",
     "output_type": "stream",
     "text": [
      "5 20\n",
      "4 42 40 26 46\n",
      "36\n"
     ]
    }
   ],
   "source": [
    "# pypy제출\n",
    "import sys\n",
    "input=sys.stdin.readline()\n",
    "n,m=map(int,input().split())\n",
    "height=list(map(int,input().split()))\n",
    "start, end=1, max(height)\n",
    "while(start<=end):\n",
    "    pivot=(start+end)//2\n",
    "    cnt=0\n",
    "    for h in height:\n",
    "        if h>pivot:\n",
    "            cnt+=h-pivot\n",
    "    if cnt>=m:\n",
    "        start=pivot+1\n",
    "    else:\n",
    "        end=pivot-1\n",
    "print(end)"
   ]
  },
  {
   "cell_type": "markdown",
   "metadata": {},
   "source": [
    "## 2110 공유기 설치"
   ]
  },
  {
   "cell_type": "code",
   "execution_count": 66,
   "metadata": {},
   "outputs": [
    {
     "name": "stdout",
     "output_type": "stream",
     "text": [
      "5 3\n",
      "1\n",
      "2\n",
      "8\n",
      "4\n",
      "9\n",
      "3\n"
     ]
    }
   ],
   "source": [
    "n,c=map(int,input().split())\n",
    "home=[]\n",
    "for i in range(n):\n",
    "    home.append(int(input()))\n",
    "home.sort()\n",
    "start,end=1,home[-1]-home[0]\n",
    "while(start<=end):\n",
    "    mid=(start+end)//2\n",
    "    pivot=home[0];cnt=1\n",
    "    for i in range(1,n):\n",
    "        if home[i]>=pivot+mid:\n",
    "            cnt+=1\n",
    "            pivot=home[i]\n",
    "    if cnt>=c:\n",
    "        start=mid+1\n",
    "        result=mid\n",
    "    else:\n",
    "        end=mid-1\n",
    "print(result)"
   ]
  },
  {
   "cell_type": "markdown",
   "metadata": {},
   "source": [
    "## 1300 K번째 수"
   ]
  },
  {
   "cell_type": "code",
   "execution_count": 76,
   "metadata": {},
   "outputs": [
    {
     "name": "stdout",
     "output_type": "stream",
     "text": [
      "3\n",
      "7\n",
      "6\n"
     ]
    }
   ],
   "source": [
    "n=int(input())\n",
    "k=int(input())\n",
    "start,end=1,k\n",
    "while(start<=end):\n",
    "    mid=(start+end)//2\n",
    "    cnt=0\n",
    "    for i in range(1,n+1):\n",
    "        cnt+=min(n,mid//i)\n",
    "    if cnt>=k:\n",
    "        result=mid\n",
    "        end=mid-1\n",
    "    else:\n",
    "        start=mid+1\n",
    "print(result)"
   ]
  },
  {
   "cell_type": "markdown",
   "metadata": {},
   "source": [
    "## 12015 가장 긴 증가하는 부분 수열2"
   ]
  },
  {
   "cell_type": "code",
   "execution_count": 134,
   "metadata": {},
   "outputs": [
    {
     "name": "stdout",
     "output_type": "stream",
     "text": [
      "6\n",
      "10 20 10 30 20 50\n",
      "4\n"
     ]
    }
   ],
   "source": [
    "from bisect import bisect_left\n",
    "n=int(input())\n",
    "A=list(map(int,input().split()))\n",
    "stack=[0]\n",
    "for a in A:\n",
    "    if stack[-1]<a:\n",
    "        stack.append(a)\n",
    "    else:\n",
    "        stack[bisect_left(stack,a)]=a\n",
    "print(len(stack)-1)"
   ]
  }
 ],
 "metadata": {
  "kernelspec": {
   "display_name": "Python 3",
   "language": "python",
   "name": "python3"
  },
  "language_info": {
   "codemirror_mode": {
    "name": "ipython",
    "version": 3
   },
   "file_extension": ".py",
   "mimetype": "text/x-python",
   "name": "python",
   "nbconvert_exporter": "python",
   "pygments_lexer": "ipython3",
   "version": "3.8.3"
  }
 },
 "nbformat": 4,
 "nbformat_minor": 4
}
