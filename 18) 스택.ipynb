{
 "cells": [
  {
   "cell_type": "markdown",
   "metadata": {},
   "source": [
    "## 10828 스택"
   ]
  },
  {
   "cell_type": "code",
   "execution_count": null,
   "metadata": {},
   "outputs": [],
   "source": [
    "import sys\n",
    "n=int(sys.stdin.readline())\n",
    "stack=[-1]*n\n",
    "top=-1\n",
    "for i in range(n):\n",
    "    com=sys.stdin.readline().split()\n",
    "    if com[0]=='push':\n",
    "        top+=1\n",
    "        stack[top]=com[1]\n",
    "    elif com[0]=='top':\n",
    "        print(stack[top])\n",
    "    elif com[0]=='size':\n",
    "        print(top+1)\n",
    "    elif com[0]=='empty':\n",
    "        if top==-1:\n",
    "            print(1)\n",
    "        else:\n",
    "            print(0)\n",
    "    elif com[0]=='pop':\n",
    "        if top==-1:\n",
    "            print(-1)\n",
    "        else:\n",
    "            print(stack[top])\n",
    "            top-=1"
   ]
  },
  {
   "cell_type": "markdown",
   "metadata": {},
   "source": [
    "## 10773 제로"
   ]
  },
  {
   "cell_type": "code",
   "execution_count": 22,
   "metadata": {},
   "outputs": [
    {
     "name": "stdout",
     "output_type": "stream",
     "text": [
      "10\n",
      "1\n",
      "3\n",
      "5\n",
      "4\n",
      "0\n",
      "0\n",
      "7\n",
      "0\n",
      "0\n",
      "6\n",
      "7\n"
     ]
    }
   ],
   "source": [
    "n=int(input())\n",
    "stack=[0]*n\n",
    "top=-1\n",
    "for i in range(n):\n",
    "    num=int(input())\n",
    "    if num==0:\n",
    "        stack[top]=0\n",
    "        top-=1\n",
    "    else:\n",
    "        top+=1\n",
    "        stack[top]=num\n",
    "print(sum(stack))"
   ]
  },
  {
   "cell_type": "markdown",
   "metadata": {},
   "source": [
    "## 9012 괄호"
   ]
  },
  {
   "cell_type": "code",
   "execution_count": 34,
   "metadata": {},
   "outputs": [
    {
     "name": "stdout",
     "output_type": "stream",
     "text": [
      "6\n",
      "(())())\n",
      "NO\n",
      "(((()())()\n",
      "NO\n",
      "(()())((()))\n",
      "YES\n",
      "((()()(()))(((())))()\n",
      "NO\n",
      "()()()()(()()())()\n",
      "YES\n",
      "(()((())()(\n",
      "NO\n"
     ]
    }
   ],
   "source": [
    "n=int(input())\n",
    "for i in range(n):\n",
    "    ps=input()\n",
    "    top=-1\n",
    "    for j in range(len(ps)):\n",
    "        if ps[j]=='(':\n",
    "            top+=1\n",
    "        else:\n",
    "            top-=1\n",
    "            if top<-1:\n",
    "                break\n",
    "    if top==-1:\n",
    "        print(\"YES\")\n",
    "    else:\n",
    "        print(\"NO\")"
   ]
  },
  {
   "cell_type": "markdown",
   "metadata": {},
   "source": [
    "## 4949 균형잡힌 세상"
   ]
  },
  {
   "cell_type": "code",
   "execution_count": 49,
   "metadata": {},
   "outputs": [
    {
     "name": "stdout",
     "output_type": "stream",
     "text": [
      "So when I die (the [first] I will see in (heaven) is a score list).\n",
      "yes\n",
      "[ first in ] ( first out ).\n",
      "yes\n",
      "Half Moon tonight (At least it is better than no Moon at all].\n",
      "no\n",
      "A rope may form )( a trail in a maze.\n",
      "no\n",
      "Help( I[m being held prisoner in a fortune cookie factory)].\n",
      "no\n",
      "([ (([( [ ] ) ( ) (( ))] )) ]).\n",
      "yes\n",
      " .\n",
      "yes\n",
      ".\n"
     ]
    }
   ],
   "source": [
    "while(1):\n",
    "    sen=input()\n",
    "    if sen=='.':\n",
    "        break\n",
    "    stack=['']*len(sen)\n",
    "    top=-1\n",
    "    for i in sen:\n",
    "        if i=='(':\n",
    "            top+=1\n",
    "            stack[top]='sopen'\n",
    "        elif i==')':\n",
    "            if top==-1:\n",
    "                top-=1\n",
    "                break\n",
    "            if stack[top]=='sopen':\n",
    "                stack[top]=''\n",
    "                top-=1\n",
    "            else:\n",
    "                break\n",
    "        elif i=='[':\n",
    "            top+=1\n",
    "            stack[top]='lopen'\n",
    "        elif i==']':\n",
    "            if top==-1:\n",
    "                top-=1\n",
    "                break\n",
    "            if stack[top]=='lopen':\n",
    "                stack[top]=''\n",
    "                top-=1\n",
    "            else:\n",
    "                break\n",
    "    if top==-1:\n",
    "        print('yes')\n",
    "    else:\n",
    "        print('no')"
   ]
  },
  {
   "cell_type": "markdown",
   "metadata": {},
   "source": [
    "## 1874 스택 수열"
   ]
  },
  {
   "cell_type": "code",
   "execution_count": 11,
   "metadata": {},
   "outputs": [
    {
     "name": "stdout",
     "output_type": "stream",
     "text": [
      "8\n",
      "4\n",
      "3\n",
      "6\n",
      "8\n",
      "7\n",
      "5\n",
      "2\n",
      "1\n",
      "+\n",
      "+\n",
      "+\n",
      "+\n",
      "-\n",
      "-\n",
      "+\n",
      "+\n",
      "-\n",
      "+\n",
      "+\n",
      "-\n",
      "-\n",
      "-\n",
      "-\n",
      "-\n"
     ]
    }
   ],
   "source": [
    "n=int(input())\n",
    "cnt=0\n",
    "stack=[]\n",
    "result=[]\n",
    "check=True\n",
    "for i in range(n):\n",
    "    num=int(input())\n",
    "    while(cnt < num):\n",
    "        cnt+=1\n",
    "        stack.append(cnt)\n",
    "        result.append('+')\n",
    "    if stack[-1]==num:\n",
    "        stack.pop()\n",
    "        result.append('-')\n",
    "    else:\n",
    "        check=False\n",
    "        break\n",
    "if check==False:\n",
    "    print(\"NO\")\n",
    "else:\n",
    "    for i in result:\n",
    "        print(i)"
   ]
  },
  {
   "cell_type": "markdown",
   "metadata": {},
   "source": [
    "## 17298 오큰수"
   ]
  },
  {
   "cell_type": "code",
   "execution_count": 78,
   "metadata": {},
   "outputs": [
    {
     "name": "stdout",
     "output_type": "stream",
     "text": [
      "4\n",
      "3 5 2 7\n",
      "5 7 7 -1 "
     ]
    }
   ],
   "source": [
    "n=int(input())\n",
    "lst=list(map(int,input().split()))\n",
    "stack=[]\n",
    "result=[-1]*n\n",
    "for i in range(n):\n",
    "    try:\n",
    "        while(lst[stack[-1]]<lst[i]):\n",
    "            result[stack.pop()]=lst[i]\n",
    "    except:\n",
    "        pass\n",
    "    stack.append(i)\n",
    "for i in range(n):\n",
    "    print(result[i],end=' ')"
   ]
  },
  {
   "cell_type": "code",
   "execution_count": null,
   "metadata": {},
   "outputs": [],
   "source": []
  }
 ],
 "metadata": {
  "kernelspec": {
   "display_name": "Python 3",
   "language": "python",
   "name": "python3"
  },
  "language_info": {
   "codemirror_mode": {
    "name": "ipython",
    "version": 3
   },
   "file_extension": ".py",
   "mimetype": "text/x-python",
   "name": "python",
   "nbconvert_exporter": "python",
   "pygments_lexer": "ipython3",
   "version": "3.8.3"
  }
 },
 "nbformat": 4,
 "nbformat_minor": 4
}
